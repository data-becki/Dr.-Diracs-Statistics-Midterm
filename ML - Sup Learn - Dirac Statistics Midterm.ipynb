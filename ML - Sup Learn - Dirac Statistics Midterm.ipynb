{
 "cells": [
  {
   "cell_type": "markdown",
   "id": "bcfb705e",
   "metadata": {},
   "source": [
    "## Dr. Dirac's Statistics Midterm\n",
    "\n",
    "Grading a multiple choice exam is easy. But how much do multiple choice exams tell us about what a student really knows? Dr. Dirac is administering a statistics midterm exam and wants to use Bayes’ Theorem to help him understand the following:\n",
    "\n",
    "-    *Given that a student answered a question correctly, what is the probability that she really knows the material?*\n",
    "\n",
    "Dr. Dirac knows the following probabilities based on many years of teaching:\n",
    "\n",
    "1.    There is a question on the exam that **60%** of students know the correct answer to.\n",
    "2.    Given that a student knows the correct answer, there is still a **15%** chance that the student picked the wrong answer.\n",
    "3.    Given that a student does not know the answer, there is still a **20%** chance that the student picks the correct answer by guessing.\n",
    "\n",
    "    *Given that a student answered a question correctly, what is the probability that she really knows the material?*\n",
    "\n",
    "Using these probabilities, we can answer the question."
   ]
  },
  {
   "cell_type": "code",
   "execution_count": 1,
   "id": "ae4a96f6",
   "metadata": {},
   "outputs": [],
   "source": [
    "import numpy as np"
   ]
  },
  {
   "cell_type": "markdown",
   "id": "f887370e",
   "metadata": {},
   "source": [
    "1.  In order to use Bayes Theorem, we need to phrase our question as `P(A|B)`.\n",
    "\n",
    "    What is A and B in this case?\n",
    "\n",
    "Given that `P(B)` - student answered a question correctly, what is the probability `P(A)` - that she really knows the material?\n",
    "\n",
    "        P(knows the material | answered correctly)\n",
    "        P(A) = P(knows material)\n",
    "        P(B) = P(answers correctly)\n",
    "\n",
    "In statistics, if we have two events (`A` and `B`), we write the probability that event `A` will happen, given that event `B` already happened as `P(A|B)`."
   ]
  },
  {
   "cell_type": "markdown",
   "id": "b08500de",
   "metadata": {},
   "source": [
    "2. What is the probability that the student knows the material?\n",
    "\n",
    "        P(A) = P(knows material) = 0.60"
   ]
  },
  {
   "cell_type": "markdown",
   "id": "7aff977e",
   "metadata": {},
   "source": [
    "3. Given that the student knows the material, what is the probability that she answers correctly?\n",
    "\n",
    "        P(B | A) = P(answers correctly | knows the material ) = 1 - 0.15"
   ]
  },
  {
   "cell_type": "markdown",
   "id": "d600f7bb",
   "metadata": {},
   "source": [
    "4. What is the probability of any student answering correctly?\n",
    "\n",
    "    We want `P(B)`.\n",
    "\n",
    "    The probability of answering correctly is equal to the weighted average of `P(answers correctly | knows material)` and `P(answers correctly| does not know material)`.\n",
    "\n",
    "    We are given both of these probabilities (1 - 0.15 and 0.20, respectively).\n",
    "\n",
    "    How can we calculate the weights?\n",
    "\n",
    "        P(answers correctly) = P(answers correctly | knows material) * P(knows material) + P(answers correctly | does not know material) * P(does not know material)\n",
    "\n",
    "        P(B) = P(B | A) * P(A) + P(B | not A) * P(not A)"
   ]
  },
  {
   "cell_type": "code",
   "execution_count": 2,
   "id": "b3782ef9",
   "metadata": {},
   "outputs": [
    {
     "name": "stdout",
     "output_type": "stream",
     "text": [
      "0.5900000000000001\n"
     ]
    }
   ],
   "source": [
    "p_answers_correctly = (1 - 0.15) * 0.60 + (0.20) * (1 - 0.60)\n",
    "print(p_answers_correctly)"
   ]
  },
  {
   "cell_type": "markdown",
   "id": "45e41763",
   "metadata": {},
   "source": [
    "5. Using the three probabilities and Bayes’ Theorem, calculate `P(knows material | answers correctly)`.\n",
    "\n",
    "    $P(A ∣ B)=\\frac{\\text{P(B ∣ A) ⋅ P(A)}}{P(B)}$\n",
    "    \n",
    "    $P(knows material | answers correctly) = \\frac{P(answers correctly | knows material) * P(knows material)}{P(answers correctly)}$"
   ]
  },
  {
   "cell_type": "code",
   "execution_count": 5,
   "id": "69035a63",
   "metadata": {},
   "outputs": [
    {
     "name": "stdout",
     "output_type": "stream",
     "text": [
      "0.8644067796610169\n"
     ]
    }
   ],
   "source": [
    "knows_material_answers_correctly = ((1 - 0.15)*0.60)/p_answers_correctly\n",
    "print(knows_material_answers_correctly)"
   ]
  },
  {
   "cell_type": "markdown",
   "id": "62a196b2",
   "metadata": {},
   "source": [
    "Codecademy video walkthrough by expert: https://youtu.be/20S36x0MtzQ"
   ]
  }
 ],
 "metadata": {
  "kernelspec": {
   "display_name": "Python 3 (ipykernel)",
   "language": "python",
   "name": "python3"
  },
  "language_info": {
   "codemirror_mode": {
    "name": "ipython",
    "version": 3
   },
   "file_extension": ".py",
   "mimetype": "text/x-python",
   "name": "python",
   "nbconvert_exporter": "python",
   "pygments_lexer": "ipython3",
   "version": "3.9.7"
  }
 },
 "nbformat": 4,
 "nbformat_minor": 5
}
